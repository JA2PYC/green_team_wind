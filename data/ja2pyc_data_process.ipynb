{
 "cells": [
  {
   "cell_type": "code",
   "execution_count": 49,
   "id": "91d70569-ace1-4618-9ee3-f7ed25dad0b4",
   "metadata": {},
   "outputs": [],
   "source": [
    "import pandas as pd\n",
    "\n",
    "# 1번 데이터와 2번 데이터 CSV 파일을 읽기\n",
    "data1 = pd.read_csv('./raw/지역별 시간대별 태양광 및 풍력 발전량(2309_2311).csv', encoding='euc-kr')  # 1번 데이터 파일 경로\n",
    "data2 = pd.read_csv('./raw/24년 제주지역 풍력 시간대별 발전량.csv', encoding='euc-kr')  # 2번 데이터 파일 경로\n",
    "\n",
    "# 제주도 데이터 필터링\n",
    "jeju_data = data1[data1['지역명'] == '제주도']\n",
    "\n",
    "# 데이터 재구성\n",
    "jeju_data_reshaped = jeju_data.pivot_table(index='거래일자', columns='거래시간', values='풍력발전량(Mwh)')\n",
    "jeju_data_reshaped.columns = [f'{col}시' for col in jeju_data_reshaped.columns]  # 컬럼 이름 변경\n",
    "jeju_data_reshaped.reset_index(inplace=True)\n",
    "\n",
    "# 두 데이터 병합 (날짜 컬럼을 기준으로 병합)\n",
    "combined_data = pd.merge(data2, jeju_data_reshaped, left_on='날짜', right_on='거래일자', how='left')\n",
    "\n",
    "# 병합된 데이터 CSV로 저장 (인코딩 설정 추가)\n",
    "combined_data.to_csv('./processed/combined_data.csv', index=False, encoding='utf-8-sig')\n",
    "\n",
    "\n"
   ]
  }
 ],
 "metadata": {
  "kernelspec": {
   "display_name": "Python 3",
   "language": "python",
   "name": "python3"
  },
  "language_info": {
   "codemirror_mode": {
    "name": "ipython",
    "version": 3
   },
   "file_extension": ".py",
   "mimetype": "text/x-python",
   "name": "python",
   "nbconvert_exporter": "python",
   "pygments_lexer": "ipython3",
   "version": "3.12.7"
  }
 },
 "nbformat": 4,
 "nbformat_minor": 5
}
