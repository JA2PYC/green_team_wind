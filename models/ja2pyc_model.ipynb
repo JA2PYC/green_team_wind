{
 "cells": [
  {
   "cell_type": "code",
   "execution_count": 3,
   "id": "85e5d284-1eaf-4ddb-837b-fdaadd2058a9",
   "metadata": {},
   "outputs": [
    {
     "name": "stdout",
     "output_type": "stream",
     "text": [
      "ja2pyc\n"
     ]
    }
   ],
   "source": [
    "# import library\n",
    "print('ja2pyc')"
   ]
  }
 ],
 "metadata": {
  "kernelspec": {
   "display_name": "Python [conda env:base] *",
   "language": "python",
   "name": "conda-base-py"
  },
  "language_info": {
   "codemirror_mode": {
    "name": "ipython",
    "version": 3
   },
   "file_extension": ".py",
   "mimetype": "text/x-python",
   "name": "python",
   "nbconvert_exporter": "python",
   "pygments_lexer": "ipython3",
   "version": "3.12.7"
  }
 },
 "nbformat": 4,
 "nbformat_minor": 5
}
